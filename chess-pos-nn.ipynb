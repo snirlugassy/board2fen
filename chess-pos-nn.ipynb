{
 "cells": [
  {
   "cell_type": "code",
   "execution_count": 1,
   "source": [
    "import os\n",
    "import torch\n",
    "import torch.nn as nn\n",
    "import torch.nn.functional as F\n",
    "from torchvision.io import read_image\n",
    "from torchvision import transforms\n",
    "from torch.utils.data import Dataset, DataLoader\n",
    "from torch.optim import Adam\n",
    "import matplotlib.pyplot as plt"
   ],
   "outputs": [],
   "metadata": {}
  },
  {
   "cell_type": "code",
   "execution_count": 2,
   "source": [
    "fen_index = {\n",
    "    \"q\": 1,\n",
    "    \"k\": 2,\n",
    "    \"p\": 3,\n",
    "    \"n\": 4,\n",
    "    \"b\": 5,\n",
    "    \"r\": 6,\n",
    "    \"Q\": 7,\n",
    "    \"K\": 8,\n",
    "    \"P\": 9,\n",
    "    \"N\": 10,\n",
    "    \"B\": 11,\n",
    "    \"R\": 12\n",
    "}\n",
    "\n",
    "TARGET_DIM = len(fen_index.keys()) + 1\n",
    "\n",
    "def fen2matrix(y):\n",
    "    output = list()\n",
    "    _y = y.split('-')\n",
    "    for row in _y:\n",
    "        _row = list()\n",
    "        for sym in row:\n",
    "            if sym.isdigit():\n",
    "                for _i in range(int(sym)):\n",
    "                    _row.append(0)\n",
    "            else:\n",
    "                _row.append(fen_index[sym])\n",
    "        output.append(_row)\n",
    "    return torch.tensor(output)"
   ],
   "outputs": [],
   "metadata": {}
  },
  {
   "cell_type": "code",
   "execution_count": 3,
   "source": [
    "class ChessPositionDataset(Dataset):\n",
    "    def __init__(self, img_dir, transform=None, target_transform=None):\n",
    "        self.img_dir = img_dir\n",
    "        self.images = os.listdir(img_dir)\n",
    "        self.transform = transform\n",
    "        self.target_transform = target_transform\n",
    "        \n",
    "    def __len__(self):\n",
    "        return len(self.images)\n",
    "\n",
    "    def __getitem__(self, idx):\n",
    "        img_path = os.path.join(self.img_dir, self.images[idx])\n",
    "        image = read_image(img_path)\n",
    "        patches = image.unfold(1,50,50).unfold(2,50,50).permute(1,2,0,3,4)\n",
    "        label = os.path.splitext(os.path.basename(img_path))[0]\n",
    "        if self.transform:\n",
    "            image = self.transform(image)\n",
    "        if self.target_transform:\n",
    "            label = self.target_transform(label)\n",
    "        return patches/255, label"
   ],
   "outputs": [],
   "metadata": {}
  },
  {
   "cell_type": "code",
   "execution_count": 13,
   "source": [
    "# Transformations\n",
    "transform = transforms.Compose([\n",
    "    transforms.ToPILImage(),\n",
    "#     transforms.RandomCrop((250,250)),\n",
    "    transforms.ToTensor()\n",
    "    # transforms.Normalize((0.4, 0.4, 0.4), (0.1, 0.1, 0.1))\n",
    "])\n",
    "\n",
    "# Datasets\n",
    "train_data = ChessPositionDataset(img_dir='dataset/train', transform=transform, target_transform=fen2matrix)\n",
    "test_data = ChessPositionDataset(img_dir='dataset/train', transform=transform, target_transform=fen2matrix)\n",
    "\n",
    "# Dataloaders\n",
    "train_dataloader = DataLoader(train_data, shuffle=True)\n",
    "test_dataloader = DataLoader(test_data, shuffle=True)"
   ],
   "outputs": [],
   "metadata": {}
  },
  {
   "cell_type": "code",
   "execution_count": 5,
   "source": [
    "# Print the first row\n",
    "# for i in range(8):\n",
    "    # plt.figure()\n",
    "    # plt.imshow(board[0][i].permute(1, 2, 0))"
   ],
   "outputs": [],
   "metadata": {}
  },
  {
   "cell_type": "markdown",
   "source": [
    "### Relevant transofrmations to consider\n",
    "- Grayscale\n",
    "- RandomRotation\n",
    "- RandomCrop\n",
    "- RandomInvert\n",
    "- RandomAutocontrast\n",
    "- RandomHorizontalFlip"
   ],
   "metadata": {}
  },
  {
   "cell_type": "code",
   "execution_count": 32,
   "source": [
    "CHANNELS = 3\n",
    "BOARD_SIZE = 400\n",
    "SQUARE_SIZE = int(BOARD_SIZE / 8)\n",
    "NUM_OF_FILTERS = 12\n",
    "FILTER_SIZE = 4\n",
    "STRIDE = 1\n",
    "FLAT_LAYER_SIZE = NUM_OF_FILTERS * (50-2*(FILTER_SIZE-1))**2\n",
    "HIDDEN_DIM = 50\n",
    "DROPOUT_RATE = 0.1\n",
    "\n",
    "class ChessPositionNet(nn.Module):\n",
    "    def __init__(self, target_dim):\n",
    "        super().__init__()     \n",
    "        self.conv1 = nn.Conv2d(CHANNELS, NUM_OF_FILTERS, kernel_size=FILTER_SIZE, stride=STRIDE)\n",
    "        self.conv2 = nn.Conv2d(NUM_OF_FILTERS, NUM_OF_FILTERS, kernel_size=FILTER_SIZE, stride=STRIDE)\n",
    "        self.fc1 = nn.Linear(FLAT_LAYER_SIZE, HIDDEN_DIM)\n",
    "        self.fc2 = nn.Linear(HIDDEN_DIM, target_dim)\n",
    "        self.log_softmax = nn.LogSoftmax(dim=1)\n",
    "\n",
    "    # def forward(self, x):\n",
    "    #     x = F.relu(F.max_pool2d(self.conv1(x), 2))\n",
    "    #     x = F.relu(F.max_pool2d(self.conv2_drop(self.conv2(x)), 2))\n",
    "    #     x = x.view(-1, 320)\n",
    "    #     x = F.relu(self.fc1(x))\n",
    "    #     x = F.dropout(x, training=self.training)\n",
    "    #     x = self.fc2(x)\n",
    "    #     return F.log_softmax(x)\n",
    "\n",
    "    # def forward(self, board):\n",
    "    #     \"\"\"\n",
    "    #     TODO:\n",
    "    #     - Add dropout\n",
    "    #     \"\"\"\n",
    "\n",
    "    #     targets = torch.zeros((8,8,13))\n",
    "    #     assert board.shape[0] == 8\n",
    "    #     assert board.shape[1] == 8\n",
    "        \n",
    "    #     for i in range(8):\n",
    "    #         for j in range(8):\n",
    "    #             x = board[i][j]\n",
    "    #             x = x.reshape(1,3,50,50)\n",
    "    #             x = F.relu(self.conv1(x))\n",
    "    #             x = F.relu(self.conv2(x))\n",
    "    #             x = torch.flatten(x, 1) # flatten all dimensions except batch\n",
    "    #             x = F.relu(self.fc1(x))\n",
    "    #             x = self.fc2(x)\n",
    "    #             x = self.log_softmax(x)\n",
    "    #             targets[i][j] = x\n",
    "    #     return targets\n",
    "\n",
    "    # For a single piece in the board\n",
    "\n",
    "    def forward(self, x):\n",
    "        \"\"\"\n",
    "        TODO:\n",
    "        - Add dropout\n",
    "        \"\"\"\n",
    "\n",
    "        x = x.reshape(1,CHANNELS,SQUARE_SIZE,SQUARE_SIZE)\n",
    "        x = F.relu(self.conv1(x))\n",
    "        x = F.relu(self.conv2(x))\n",
    "        x = torch.flatten(x, 1) # flatten all dimensions except batch\n",
    "        x = F.relu(self.fc1(x))\n",
    "        # return self.log_softmax(self.fc2(x)).reshape(TARGET_DIM)\n",
    "        return self.fc2(x)\n",
    "\n",
    "device = \"cuda\" if torch.cuda.is_available() else \"cpu\"\n",
    "print(\"Using {} device\".format(device))\n",
    "\n",
    "model = ChessPositionNet(target_dim=TARGET_DIM).to(device)"
   ],
   "outputs": [
    {
     "output_type": "stream",
     "name": "stdout",
     "text": [
      "Using cpu device\n"
     ]
    }
   ],
   "metadata": {}
  },
  {
   "cell_type": "code",
   "execution_count": 30,
   "source": [
    "def run_validation(model, data, ids):\n",
    "    correct = 0\n",
    "    for i in ids:\n",
    "        board, labels = data[i]\n",
    "        for _i in range(8):\n",
    "            for _j in range(8):\n",
    "                _x,_y = board[_i][_j], labels[_i][_j]\n",
    "                predicted = F.log_softmax(model(_x), dim=0).argmax()\n",
    "                correct += int(_y == predicted)\n",
    "    return correct / (len(ids) * 8 * 8)"
   ],
   "outputs": [],
   "metadata": {}
  },
  {
   "cell_type": "code",
   "execution_count": 31,
   "source": [
    "import random\n",
    "import math\n",
    "\n",
    "total_samples = len(train_data)\n",
    "total_samples = 20\n",
    "train_size = math.floor(0.7 * total_samples)\n",
    "print(f'> Train size: {train_size}')\n",
    "\n",
    "validation_size = total_samples - train_size\n",
    "print(f'> Validation size: {validation_size}')\n",
    "\n",
    "validation_ids = random.sample(range(total_samples), validation_size)\n",
    "train_ids = [i for i in range(total_samples) if i not in validation_ids]"
   ],
   "outputs": [
    {
     "output_type": "stream",
     "name": "stdout",
     "text": [
      "> Train size: 14\n",
      "> Validation size: 6\n"
     ]
    }
   ],
   "metadata": {}
  },
  {
   "cell_type": "code",
   "execution_count": 36,
   "source": [
    "epochs = 10\n",
    "optimizer = Adam(model.parameters(), lr=0.01)\n",
    "loss = nn.CrossEntropyLoss()\n",
    "\n",
    "for _e in range(epochs):\n",
    "    epoch_loss = 0\n",
    "    print(f'> Epoch: {_e+1}/{epochs}')\n",
    "    for k in train_ids:\n",
    "        optimizer.zero_grad()\n",
    "        board, labels = train_data[k]\n",
    "        output = 0\n",
    "        for i in range(8):\n",
    "            for j in range(8):\n",
    "                y = model(board[i][j]).to(device)\n",
    "                output += loss(y, labels[i][j].reshape(1))\n",
    "        output.backward()\n",
    "        epoch_loss += int(output)\n",
    "    \n",
    "    print(f'Epoch loss: {epoch_loss}')\n",
    "    \n",
    "    validation_acc = run_validation(model, train_data, validation_ids)\n",
    "    print(f'> Validation accuracy: {validation_acc}')"
   ],
   "outputs": [
    {
     "output_type": "stream",
     "name": "stdout",
     "text": [
      "> Epoch: 1/10\n",
      "Epoch loss: 2370\n",
      "> Validation accuracy: 0.8645833333333334\n",
      "> Epoch: 2/10\n",
      "Epoch loss: 2370\n",
      "> Validation accuracy: 0.8645833333333334\n",
      "> Epoch: 3/10\n",
      "Epoch loss: 2370\n",
      "> Validation accuracy: 0.8645833333333334\n",
      "> Epoch: 4/10\n",
      "Epoch loss: 2370\n",
      "> Validation accuracy: 0.8645833333333334\n",
      "> Epoch: 5/10\n",
      "Epoch loss: 2370\n",
      "> Validation accuracy: 0.8645833333333334\n",
      "> Epoch: 6/10\n",
      "Epoch loss: 2370\n",
      "> Validation accuracy: 0.8645833333333334\n",
      "> Epoch: 7/10\n",
      "Epoch loss: 2370\n",
      "> Validation accuracy: 0.8645833333333334\n",
      "> Epoch: 8/10\n",
      "Epoch loss: 2370\n",
      "> Validation accuracy: 0.8645833333333334\n",
      "> Epoch: 9/10\n",
      "Epoch loss: 2370\n",
      "> Validation accuracy: 0.8645833333333334\n",
      "> Epoch: 10/10\n",
      "Epoch loss: 2370\n",
      "> Validation accuracy: 0.8645833333333334\n"
     ]
    }
   ],
   "metadata": {}
  }
 ],
 "metadata": {
  "kernelspec": {
   "name": "python3",
   "display_name": "Python 3.9.5 64-bit ('.venv': venv)"
  },
  "language_info": {
   "codemirror_mode": {
    "name": "ipython",
    "version": 3
   },
   "file_extension": ".py",
   "mimetype": "text/x-python",
   "name": "python",
   "nbconvert_exporter": "python",
   "pygments_lexer": "ipython3",
   "version": "3.9.5"
  },
  "interpreter": {
   "hash": "f9d15fffdf461b67d766e8c5eb54ce52c1cae97fbb10881fae783ec7a0bbdd1e"
  }
 },
 "nbformat": 4,
 "nbformat_minor": 5
}